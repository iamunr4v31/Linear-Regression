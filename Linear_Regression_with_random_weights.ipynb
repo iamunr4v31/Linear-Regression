{
  "nbformat": 4,
  "nbformat_minor": 0,
  "metadata": {
    "colab": {
      "name": "Linear Regression with random weights.ipynb",
      "provenance": []
    },
    "kernelspec": {
      "name": "python3",
      "display_name": "Python 3"
    }
  },
  "cells": [
    {
      "cell_type": "markdown",
      "metadata": {
        "id": "AjuPDLTj_CFx"
      },
      "source": [
        "#Import statements"
      ]
    },
    {
      "cell_type": "code",
      "metadata": {
        "colab": {
          "base_uri": "https://localhost:8080/"
        },
        "id": "hQ1tNCdX-8w0",
        "outputId": "622f2ae6-0b6d-4b9e-e64d-8a88166ca9b5"
      },
      "source": [
        "import numpy as np \n",
        "import tensorflow.compat.v1 as tf\n",
        "tf.disable_v2_behavior() \n",
        "import matplotlib.pyplot as plt \n"
      ],
      "execution_count": null,
      "outputs": [
        {
          "output_type": "stream",
          "text": [
            "WARNING:tensorflow:From /usr/local/lib/python3.6/dist-packages/tensorflow/python/compat/v2_compat.py:96: disable_resource_variables (from tensorflow.python.ops.variable_scope) is deprecated and will be removed in a future version.\n",
            "Instructions for updating:\n",
            "non-resource variables are not supported in the long term\n"
          ],
          "name": "stdout"
        }
      ]
    },
    {
      "cell_type": "markdown",
      "metadata": {
        "id": "eNfAyznG_Im6"
      },
      "source": [
        "#Seeding the dataset"
      ]
    },
    {
      "cell_type": "code",
      "metadata": {
        "id": "r5zcXveY_LGr"
      },
      "source": [
        "np.random.seed(100) \n",
        "tf.set_random_seed(100)"
      ],
      "execution_count": null,
      "outputs": []
    },
    {
      "cell_type": "markdown",
      "metadata": {
        "id": "61_enTtx_SIm"
      },
      "source": [
        "#Generate random data"
      ]
    },
    {
      "cell_type": "code",
      "metadata": {
        "id": "ESxOnPqo_VUn"
      },
      "source": [
        "# Genrating random linear data \n",
        "# There will be 50 data points ranging from 0 to 50 \n",
        "x = np.linspace(0, 50, 50) \n",
        "y = np.linspace(0, 50, 50) \n",
        "\n",
        "# Adding noise to the random linear data \n",
        "x += np.random.uniform(-4, 4, 50) \n",
        "y += np.random.uniform(-4, 4, 50) \n",
        "\n",
        "n = len(x) # Number of data points \n"
      ],
      "execution_count": null,
      "outputs": []
    },
    {
      "cell_type": "markdown",
      "metadata": {
        "id": "TU7K-tJ0_krA"
      },
      "source": [
        "#Visualizing the training data"
      ]
    },
    {
      "cell_type": "code",
      "metadata": {
        "colab": {
          "base_uri": "https://localhost:8080/",
          "height": 295
        },
        "id": "G4IyDSMd_nfW",
        "outputId": "bac69f88-afd2-4e89-9217-21bfc5238196"
      },
      "source": [
        "# Plot of Training Data \n",
        "plt.scatter(x, y) \n",
        "plt.xlabel('x') \n",
        "plt.xlabel('y') \n",
        "plt.title(\"Training Data\") \n",
        "plt.show() \n"
      ],
      "execution_count": null,
      "outputs": [
        {
          "output_type": "display_data",
          "data": {
            "image/png": "[encoded data removed]",
            "text/plain": [
              "<Figure size 432x288 with 1 Axes>"
            ]
          },
          "metadata": {
            "tags": [],
            "needs_background": "light"
          }
        }
      ]
    },
    {
      "cell_type": "markdown",
      "metadata": {
        "id": "QiLaaTHq_zSI"
      },
      "source": [
        "#Setting up placeholder values"
      ]
    },
    {
      "cell_type": "code",
      "metadata": {
        "id": "BSPgpJR3_zAf"
      },
      "source": [
        "X = tf.placeholder(\"float\") \n",
        "Y = tf.placeholder(\"float\") \n"
      ],
      "execution_count": null,
      "outputs": []
    },
    {
      "cell_type": "markdown",
      "metadata": {
        "id": "p0wb92BTAdFn"
      },
      "source": [
        "#Setting up weights and bias"
      ]
    },
    {
      "cell_type": "code",
      "metadata": {
        "id": "p-Vn4xqiAYYf"
      },
      "source": [
        "W = tf.Variable(np.random.randn(), name = \"W\") \n",
        "b = tf.Variable(np.random.randn(), name = \"b\") \n"
      ],
      "execution_count": null,
      "outputs": []
    },
    {
      "cell_type": "markdown",
      "metadata": {
        "id": "hAKiiUjxAkEP"
      },
      "source": [
        "#Learning rate and epochs"
      ]
    },
    {
      "cell_type": "code",
      "metadata": {
        "id": "JinoHCbmAhID"
      },
      "source": [
        "learning_rate = 0.01\n",
        "training_epochs = 1000\n"
      ],
      "execution_count": null,
      "outputs": []
    },
    {
      "cell_type": "code",
      "metadata": {
        "id": "hOfUtG9lAsVY"
      },
      "source": [
        "# Hypothesis \n",
        "y_pred = tf.add(tf.multiply(X, W), b)   # y = mx +c\n",
        "\n",
        "# Mean Squared Error Cost Function \n",
        "cost = tf.reduce_sum(tf.pow(y_pred-Y, 2)) / (2 * n)   \n",
        "\n",
        "# Gradient Descent Optimizer \n",
        "optimizer = tf.train.GradientDescentOptimizer(learning_rate).minimize(cost) \n",
        "\n",
        "# Global Variables Initializer \n",
        "init = tf.global_variables_initializer() \n"
      ],
      "execution_count": null,
      "outputs": []
    },
    {
      "cell_type": "code",
      "metadata": {
        "colab": {
          "base_uri": "https://localhost:8080/"
        },
        "id": "4eWZUPmbA44_",
        "outputId": "46cbdb14-7b85-428a-ec04-2ab73a27cb3c"
      },
      "source": [
        "# Starting the Tensorflow Session \n",
        "with tf.Session() as sess: \n",
        "\t\n",
        "\t# Initializing the Variables \n",
        "\tsess.run(init) \n",
        "\t\n",
        "\t# Iterating through all the epochs \n",
        "\tfor epoch in range(training_epochs): \n",
        "\t\t\n",
        "\t\t# Feeding each data point into the optimizer using Feed Dictionary \n",
        "\t\tfor (_x, _y) in zip(x, y): \n",
        "\t\t\tsess.run(optimizer, feed_dict = {X : _x, Y : _y}) \n",
        "\t\t\n",
        "\t\t# Displaying the result after every 50 epochs \n",
        "\t\tif (epoch + 1) % 50 == 0: \n",
        "\t\t\t# Calculating the cost a every epoch \n",
        "\t\t\tc = sess.run(cost, feed_dict = {X : x, Y : y}) \n",
        "\t\t\tprint(\"Epoch\", (epoch + 1), \": cost =\", c, \"W =\", sess.run(W), \"b =\", sess.run(b)) \n",
        "\t\n",
        "\t# Storing necessary values to be used outside the Session \n",
        "\ttraining_cost = sess.run(cost, feed_dict ={X: x, Y: y}) \n",
        "\tweight = sess.run(W) \n",
        "\tbias = sess.run(b) \n"
      ],
      "execution_count": null,
      "outputs": [
        {
          "output_type": "stream",
          "text": [
            "Epoch 50 : cost = 4.7474155 W = 1.021131 b = -0.7005334\n",
            "Epoch 100 : cost = 4.7415056 W = 1.0200144 b = -0.646762\n",
            "Epoch 150 : cost = 4.7369723 W = 1.0190073 b = -0.5982708\n",
            "Epoch 200 : cost = 4.733532 W = 1.0180993 b = -0.5545429\n",
            "Epoch 250 : cost = 4.730956 W = 1.0172805 b = -0.5151095\n",
            "Epoch 300 : cost = 4.7290626 W = 1.0165421 b = -0.4795492\n",
            "Epoch 350 : cost = 4.727703 W = 1.015876 b = -0.4474812\n",
            "Epoch 400 : cost = 4.726761 W = 1.0152756 b = -0.4185622\n",
            "Epoch 450 : cost = 4.7261424 W = 1.014734 b = -0.39248353\n",
            "Epoch 500 : cost = 4.725771 W = 1.0142456 b = -0.36896545\n",
            "Epoch 550 : cost = 4.72559 W = 1.0138052 b = -0.3477572\n",
            "Epoch 600 : cost = 4.7255497 W = 1.0134082 b = -0.32863238\n",
            "Epoch 650 : cost = 4.7256145 W = 1.01305 b = -0.31138548\n",
            "Epoch 700 : cost = 4.7257547 W = 1.012727 b = -0.29583147\n",
            "Epoch 750 : cost = 4.725948 W = 1.0124357 b = -0.2818065\n",
            "Epoch 800 : cost = 4.7261763 W = 1.012173 b = -0.26915887\n",
            "Epoch 850 : cost = 4.726427 W = 1.0119362 b = -0.25775284\n",
            "Epoch 900 : cost = 4.7266874 W = 1.0117227 b = -0.2474672\n",
            "Epoch 950 : cost = 4.7269535 W = 1.0115299 b = -0.23819146\n",
            "Epoch 1000 : cost = 4.7272153 W = 1.0113562 b = -0.229827\n"
          ],
          "name": "stdout"
        }
      ]
    },
    {
      "cell_type": "code",
      "metadata": {
        "colab": {
          "base_uri": "https://localhost:8080/"
        },
        "id": "jMa28_RFA6BT",
        "outputId": "0ca9c756-8e95-4b95-bec2-a80c53c3bd0e"
      },
      "source": [
        "# Calculating the predictions \n",
        "predictions = weight * x + bias \n",
        "print(\"Training cost =\", training_cost, \"Weight =\", weight, \"bias =\", bias, '\\n') \n"
      ],
      "execution_count": null,
      "outputs": [
        {
          "output_type": "stream",
          "text": [
            "Training cost = 4.7272153 Weight = 1.0113562 bias = -0.229827 \n",
            "\n"
          ],
          "name": "stdout"
        }
      ]
    },
    {
      "cell_type": "code",
      "metadata": {
        "id": "XHFeiLhEBCJL",
        "colab": {
          "base_uri": "https://localhost:8080/",
          "height": 281
        },
        "outputId": "2c5348b3-f73b-4b31-c009-1cc4d28a31f0"
      },
      "source": [
        "plt.plot(x, y, 'ro', label ='Original data') \n",
        "plt.plot(x, predictions, label ='Fitted line') \n",
        "plt.title('Linear Regression Result') \n",
        "plt.legend() \n",
        "plt.show()"
      ],
      "execution_count": null,
      "outputs": [
        {
          "output_type": "display_data",
          "data": {
            "image/png": "[encoded data removed]",
            "text/plain": [
              "<Figure size 432x288 with 1 Axes>"
            ]
          },
          "metadata": {
            "tags": [],
            "needs_background": "light"
          }
        }
      ]
    },
    {
      "cell_type": "code",
      "metadata": {
        "id": "ONvZGglzBEHv"
      },
      "source": [
        ""
      ],
      "execution_count": null,
      "outputs": []
    }
  ]
}